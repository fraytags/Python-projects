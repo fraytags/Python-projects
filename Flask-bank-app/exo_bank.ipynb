{
 "cells": [
  {
   "cell_type": "code",
   "execution_count": 1,
   "id": "initial_id",
   "metadata": {
    "collapsed": true,
    "ExecuteTime": {
     "end_time": "2024-03-16T09:25:06.850281100Z",
     "start_time": "2024-03-16T09:25:06.817443200Z"
    }
   },
   "outputs": [
    {
     "data": {
      "text/plain": "'backend\\nClass Bank: 1. contient account lists, decouverte,… 2. recevoir une connexion d’un User: valider ou non la connexion\\nBankAccount:\\nretrait, affichage, virement,\\nFrontEnd\\nUser:\\nse connecter à la banque cree une connexion\\ndemande: retrait, virement, affichage\\nInterfaceUSer:'"
     },
     "execution_count": 1,
     "metadata": {},
     "output_type": "execute_result"
    }
   ],
   "source": [
    "\"\"\"\n",
    "Backend\n",
    "Class Bank: \n",
    "1. Contient account lists, decouverte,… \n",
    "2. Recevoir une connexion d’un User: valider ou non la connexion\n",
    "\n",
    "BankAccount:\n",
    "1. Retrait \n",
    "2. Affichage\n",
    "3. Virement\n",
    "\n",
    "FrontEnd\n",
    "\n",
    "User:\n",
    "Se connecter à la banque cree une connexion\n",
    "1. Retrait\n",
    "2. Virement\n",
    "3. Affichage\n",
    "\n",
    "\n",
    "InterfaceUSer:\n",
    "\n",
    "Affichage en flask\n",
    "\n",
    "\n",
    "\"\"\""
   ]
  },
  {
   "cell_type": "code",
   "execution_count": 11,
   "outputs": [
    {
     "name": "stdout",
     "output_type": "stream",
     "text": [
      "{'Marie': 15656, 'Mohamed': 25635, 'Nicolas': 30258, 'Issam': 78956}\n"
     ]
    }
   ],
   "source": [
    "import paramiko\n",
    "import json\n",
    "from flask import *\n",
    "\n",
    "class Bank:\n",
    "    def __init__(self, name):\n",
    "        self.name = name\n",
    "\n",
    "class Connection:\n",
    "    def __init__(self, userpass):\n",
    "        pass\n",
    "        \n",
    "             \n",
    "class BankAccount:\n",
    "    def __init__(self, amount, client_file):\n",
    "        self.amount = amount\n",
    "        \n",
    "        \n",
    "    def withdrawal(self):\n",
    "        pass\n",
    "    def payment(self):\n",
    "        pass\n",
    "    def get_account_infos(self):\n",
    "        pass\n",
    "\n",
    "\n",
    "def open_bank_json_account():\n",
    "    with open('bank_clients.json','r') as f:\n",
    "        res = json.load(f)\n",
    "    return res\n",
    "\n",
    "\n",
    "class User:\n",
    "    def __init__(self, amount : str, account:BankAccount):\n",
    "        self.amount = amount\n",
    "    \n",
    "    def load_user(self):\n",
    "        pass\n",
    "        \n",
    "    # def withdrawal(self):\n",
    "    #     pass\n",
    "    # def payment(self):\n",
    "    #     pass\n",
    "    # def get_account_infos(self):\n",
    "    #     pass\n",
    "    \n",
    "app = Flask(__name__)\n",
    "\n",
    "@app.route(\"/\")\n",
    "def print_hello():\n",
    "        return  render_template(\"index.html\",data=  )\n",
    "\n",
    "app.run(\n",
    "    host='0.0.0.0' ,port=9999,\n",
    ")   \n",
    "            \n",
    "        "
   ],
   "metadata": {
    "collapsed": false,
    "ExecuteTime": {
     "end_time": "2024-03-16T10:38:04.750270500Z",
     "start_time": "2024-03-16T10:38:04.682860Z"
    }
   },
   "id": "b3172e81a5f3bef8"
  },
  {
   "cell_type": "code",
   "execution_count": null,
   "outputs": [],
   "source": [],
   "metadata": {
    "collapsed": false
   },
   "id": "948d520f15c019d2"
  }
 ],
 "metadata": {
  "kernelspec": {
   "display_name": "Python 3",
   "language": "python",
   "name": "python3"
  },
  "language_info": {
   "codemirror_mode": {
    "name": "ipython",
    "version": 2
   },
   "file_extension": ".py",
   "mimetype": "text/x-python",
   "name": "python",
   "nbconvert_exporter": "python",
   "pygments_lexer": "ipython2",
   "version": "2.7.6"
  }
 },
 "nbformat": 4,
 "nbformat_minor": 5
}
