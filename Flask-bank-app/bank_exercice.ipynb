{
 "cells": [
  {
   "cell_type": "code",
   "execution_count": 1,
   "id": "5ff1caee-265c-4035-8e05-718dbbb2077d",
   "metadata": {},
   "outputs": [],
   "source": [
    "import json"
   ]
  },
  {
   "cell_type": "markdown",
   "id": "7fe521cb-9a15-4098-b1d0-99ddecdc6e63",
   "metadata": {},
   "source": [
    "backend\n",
    "- Class Bank:\n",
    "      1.  contient account lists, decouverte,...\n",
    "      2.  recevoir une connexion d'un User: valider ou non la connexion\n",
    "- BankAccount:\n",
    "   - retrait, affichage, virement,\n",
    "  \n",
    "FrontEnd\n",
    "- User:\n",
    "    + se connecter à la banque cree une connexion\n",
    "    + demande: retrait, virement, affichage\n",
    "- InterfaceUSer:"
   ]
  },
  {
   "cell_type": "code",
   "execution_count": 5,
   "id": "ed73d4a5-4090-403b-9cef-5a00acd7f025",
   "metadata": {},
   "outputs": [],
   "source": [
    "listAccounts = [{\"id\": \"mohamed\",\"password\":\"12345\",\"solde\":-10},  {\"id\": \"antoine\",\"password\":\"12345\",\"solde\":50} ]\n",
    "# Specify the file path where you want to save the JSON file\n",
    "file_path = \"bank.json\"\n",
    "\n",
    "# Write the list of dictionaries to a JSON file\n",
    "with open(file_path, \"w\") as json_file:\n",
    "    json.dump(listAccounts, json_file, indent=4)"
   ]
  },
  {
   "cell_type": "markdown",
   "id": "572b2d3c-c168-4fe3-a068-93cb00dcc663",
   "metadata": {},
   "source": []
  },
  {
   "cell_type": "code",
   "execution_count": 28,
   "id": "3e1d01c5-6e86-4f3d-8cdf-5235edc63b43",
   "metadata": {},
   "outputs": [],
   "source": [
    "class Bank:\n",
    "    def __init__(self,name,dataBasePath,decouverte=-100):\n",
    "        self.name = name\n",
    "        self.dataBasePath = dataBasePath\n",
    "        self.accountList = self.loadAccounts()\n",
    "        self.decouverte = decouverte\n",
    "    def  loadAccounts(self):\n",
    "        with open(self.dataBasePath ,\"r\") as file:\n",
    "            data = json.load(file)\n",
    "        accountLists = [BankAccount(el.id, el.password, el.sol,bank=self)  for el in data]\n",
    "   # def retraint(self,account,montant):\n",
    "\n",
    "class BankAccount:\n",
    "    def __init__(self,id,password,solde,bank = None,taux = None):\n",
    "        self.id = id\n",
    "        self.password = password\n",
    "        self.solde = solde\n",
    "        self.taux = taux\n",
    "        self.bank = bank\n",
    "    def affiche(self):\n",
    "        print(\"ton solde est\",self.solde )\n",
    "    def retrait(self, montant):\n",
    "        if(self.bank.decouverte<=self.solde-montant):\n",
    "            self.solde = self.solde - montant\n",
    "        else:\n",
    "            print(\"votre solde n'est suffisant\")\n",
    " "
   ]
  },
  {
   "cell_type": "code",
   "execution_count": null,
   "id": "8446d279-2092-4c9c-aeba-204676a7c3df",
   "metadata": {},
   "outputs": [],
   "source": [
    "class User:\n",
    "   def __init__(self,id,password):\n",
    "       self.id = id\n",
    "       self.password = password\n",
    "   def connect(self,bank):\n",
    "       bank.connect()\n",
    "       "
   ]
  },
  {
   "cell_type": "code",
   "execution_count": 10,
   "id": "cf0bc793-5bd5-4561-8e77-94762c0ceafa",
   "metadata": {},
   "outputs": [],
   "source": [
    "bankAccount = BankAccount(\"mohamed\",\"password\",100)"
   ]
  },
  {
   "cell_type": "code",
   "execution_count": 12,
   "id": "f1dbd6dd-277b-4298-a4bb-f9452c402f15",
   "metadata": {},
   "outputs": [
    {
     "name": "stdout",
     "output_type": "stream",
     "text": [
      "ton solde est 100\n"
     ]
    }
   ],
   "source": [
    "bankAccount.affiche()\n",
    "bankAccount.retrait(20)"
   ]
  },
  {
   "cell_type": "code",
   "execution_count": 13,
   "id": "56ff992d-c313-4115-baeb-2367d3b0ada3",
   "metadata": {},
   "outputs": [
    {
     "name": "stdout",
     "output_type": "stream",
     "text": [
      "ton solde est 80\n"
     ]
    }
   ],
   "source": [
    "bankAccount.affiche()"
   ]
  },
  {
   "cell_type": "code",
   "execution_count": 14,
   "id": "b4396a8c-f423-4a4d-90f5-3f7e21a13c1b",
   "metadata": {},
   "outputs": [
    {
     "name": "stdout",
     "output_type": "stream",
     "text": [
      "votre solde n'est suffisant\n"
     ]
    }
   ],
   "source": [
    "bankAccount.retrait(100)"
   ]
  },
  {
   "cell_type": "code",
   "execution_count": 15,
   "id": "8a63a604-c9ab-4b7c-9cc0-a44b694d03a8",
   "metadata": {},
   "outputs": [
    {
     "name": "stdout",
     "output_type": "stream",
     "text": [
      "ton solde est 80\n"
     ]
    }
   ],
   "source": [
    "bankAccount.affiche()"
   ]
  },
  {
   "cell_type": "code",
   "execution_count": null,
   "id": "5899fb55-20d3-4f19-a0aa-03d0936839b0",
   "metadata": {},
   "outputs": [],
   "source": [
    "-\n",
    "    "
   ]
  },
  {
   "cell_type": "code",
   "execution_count": 16,
   "id": "593737df-1ab7-4cc8-a82a-23be738c36c6",
   "metadata": {},
   "outputs": [
    {
     "name": "stdout",
     "output_type": "stream",
     "text": [
      " Volume in drive C is Windows\n",
      " Volume Serial Number is 5AEC-E0D7\n",
      "\n",
      " Directory of C:\\Users\\messadki\\Documents\\sup_cours\\antoine\n",
      "\n",
      "03/15/2024  05:58 PM    <DIR>          .\n",
      "03/03/2024  03:23 PM    <DIR>          ..\n",
      "03/15/2024  04:52 PM    <DIR>          .ipynb_checkpoints\n",
      "02/22/2024  08:34 PM               631 application.yaml\n",
      "03/15/2024  05:36 PM               188 bank.json\n",
      "03/15/2024  05:58 PM             3,922 bank_exercice.ipynb\n",
      "02/26/2024  09:47 PM       369,487,798 cours_python_antoin2.mp4\n",
      "02/22/2024  08:55 PM               134 group.yaml\n",
      "02/22/2024  08:56 PM             8,145 Untitled.ipynb\n",
      "               6 File(s)    369,500,818 bytes\n",
      "               3 Dir(s)  600,342,581,248 bytes free\n"
     ]
    }
   ],
   "source": [
    "class User:\n",
    "    def __init__"
   ]
  },
  {
   "cell_type": "code",
   "execution_count": 19,
   "id": "9120e3b0-1d26-4f82-b3be-3b5544c3e68e",
   "metadata": {},
   "outputs": [],
   "source": []
  },
  {
   "cell_type": "code",
   "execution_count": 23,
   "id": "51d6a6b1-53d5-4588-bf8f-df3f49825606",
   "metadata": {},
   "outputs": [],
   "source": [
    "with open(\"bank.json\",\"r\") as file:\n",
    "    data = json.load(file)\n",
    "accountLists = [BankAccount(el[\"id\"], el[\"password\"], el[\"solde\"],ba)  for el in data]"
   ]
  },
  {
   "cell_type": "code",
   "execution_count": 26,
   "id": "1209fab4-52f3-4f55-b89e-6c81b7a6f01d",
   "metadata": {},
   "outputs": [
    {
     "name": "stdout",
     "output_type": "stream",
     "text": [
      "ton solde est -10\n"
     ]
    }
   ],
   "source": [
    "accountLists[0].affiche()"
   ]
  },
  {
   "cell_type": "code",
   "execution_count": 27,
   "id": "7aa6c79a-1016-484b-b2dd-9a0eda852aab",
   "metadata": {},
   "outputs": [
    {
     "data": {
      "text/plain": [
       "[{'id': 'mohamed', 'password': '12345', 'solde': -10},\n",
       " {'id': 'antoine', 'password': '12345', 'solde': 50}]"
      ]
     },
     "execution_count": 27,
     "metadata": {},
     "output_type": "execute_result"
    }
   ],
   "source": [
    "data"
   ]
  },
  {
   "cell_type": "code",
   "execution_count": null,
   "id": "4408b94c-836a-4c51-9a67-8a4f640d6e2f",
   "metadata": {},
   "outputs": [],
   "source": []
  }
 ],
 "metadata": {
  "kernelspec": {
   "display_name": "Python 3 (ipykernel)",
   "language": "python",
   "name": "python3"
  },
  "language_info": {
   "codemirror_mode": {
    "name": "ipython",
    "version": 3
   },
   "file_extension": ".py",
   "mimetype": "text/x-python",
   "name": "python",
   "nbconvert_exporter": "python",
   "pygments_lexer": "ipython3",
   "version": "3.10.12"
  }
 },
 "nbformat": 4,
 "nbformat_minor": 5
}
